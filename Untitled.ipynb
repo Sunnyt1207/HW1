{
 "cells": [
  {
   "cell_type": "code",
   "execution_count": 1,
   "metadata": {},
   "outputs": [
    {
     "name": "stdout",
     "output_type": "stream",
     "text": [
      "100 200\n",
      "100\n",
      "200\n",
      "\n"
     ]
    }
   ],
   "source": [
    "a=100\n",
    "b=200\n",
    "c,d=a,b\n",
    "print(c,d)\n",
    "print(c)\n",
    "print(d)\n",
    "print()"
   ]
  },
  {
   "cell_type": "code",
   "execution_count": 2,
   "metadata": {},
   "outputs": [
    {
     "name": "stdout",
     "output_type": "stream",
     "text": [
      "100 200\n",
      "100200＊＊＊Over\n"
     ]
    }
   ],
   "source": [
    "a=100\n",
    "b=200\n",
    "c,d=a,b\n",
    "print(c,d)\n",
    "print(c,end='')\n",
    "print(d,end='＊＊＊')\n",
    "print('Over')"
   ]
  },
  {
   "cell_type": "code",
   "execution_count": 3,
   "metadata": {},
   "outputs": [
    {
     "name": "stdout",
     "output_type": "stream",
     "text": [
      "100 200\n",
      "100＄and\n",
      "200***Over\n"
     ]
    }
   ],
   "source": [
    "a=100\n",
    "b=200\n",
    "c,d=a,b\n",
    "print(c,d)\n",
    "print(c,end='＄')\n",
    "print('and')\n",
    "print(d,end='***')\n",
    "print('Over')"
   ]
  },
  {
   "cell_type": "code",
   "execution_count": 4,
   "metadata": {},
   "outputs": [
    {
     "name": "stdout",
     "output_type": "stream",
     "text": [
      "300\n",
      "33.333333333333336\n",
      "33\n",
      "1\n",
      "1000000\n",
      "10.0\n"
     ]
    }
   ],
   "source": [
    "x=100\n",
    "y=3\n",
    "print(x*y)\n",
    "print(x/y)\n",
    "print(x//y)\n",
    "print(x%y)\n",
    "print(x**y)\n",
    "print(x**0.5)"
   ]
  },
  {
   "cell_type": "code",
   "execution_count": 5,
   "metadata": {},
   "outputs": [
    {
     "name": "stdout",
     "output_type": "stream",
     "text": [
      "Hello,python\n",
      "300\n"
     ]
    }
   ],
   "source": [
    "str1='Hello,'\n",
    "str2=\"python\"\n",
    "str3=str1+str2\n",
    "print(str3)\n",
    "a=100\n",
    "b=200\n",
    "c=a+b\n",
    "print(c)"
   ]
  },
  {
   "cell_type": "code",
   "execution_count": 6,
   "metadata": {},
   "outputs": [
    {
     "ename": "SyntaxError",
     "evalue": "unexpected character after line continuation character (<ipython-input-6-bc1ac9e53647>, line 2)",
     "output_type": "error",
     "traceback": [
      "\u001b[1;36m  File \u001b[1;32m\"<ipython-input-6-bc1ac9e53647>\"\u001b[1;36m, line \u001b[1;32m2\u001b[0m\n\u001b[1;33m    'Python,Let'\\'s learning'\u001b[0m\n\u001b[1;37m                             \n^\u001b[0m\n\u001b[1;31mSyntaxError\u001b[0m\u001b[1;31m:\u001b[0m unexpected character after line continuation character\n"
     ]
    }
   ],
   "source": [
    "str1='Hello,'+\\\n",
    "    'Python,Let'\\'s learning'\n",
    "str2=\"Python now\"\n",
    "str3=str1+str2\n",
    "print(str3)"
   ]
  },
  {
   "cell_type": "code",
   "execution_count": 7,
   "metadata": {},
   "outputs": [
    {
     "name": "stdout",
     "output_type": "stream",
     "text": [
      "33\n",
      "1\n",
      "33.333333333333336\n"
     ]
    }
   ],
   "source": [
    "a=100\n",
    "b=3\n",
    "a//=b\n",
    "print(a)\n",
    "\n",
    "\n",
    "a=100\n",
    "a%=b\n",
    "print(a)\n",
    "\n",
    "a=100\n",
    "a/=b\n",
    "print(a)"
   ]
  },
  {
   "cell_type": "code",
   "execution_count": 8,
   "metadata": {},
   "outputs": [
    {
     "name": "stdout",
     "output_type": "stream",
     "text": [
      "100 200\n",
      "200 100\n"
     ]
    }
   ],
   "source": [
    "a=100\n",
    "b=200\n",
    "print(a,b)\n",
    "\n",
    "b,a=a,b\n",
    "print(a,b)"
   ]
  },
  {
   "cell_type": "code",
   "execution_count": 10,
   "metadata": {},
   "outputs": [
    {
     "name": "stdout",
     "output_type": "stream",
     "text": [
      "100 200\n",
      "200 100\n"
     ]
    }
   ],
   "source": [
    "a=100\n",
    "b=200\n",
    "print(a,b)\n",
    "\n",
    "temp=a\n",
    "a=b\n",
    "b=temp\n",
    "print(a,b)"
   ]
  },
  {
   "cell_type": "code",
   "execution_count": null,
   "metadata": {},
   "outputs": [],
   "source": [
    "a=eval(input('Enter an integer:'))\n",
    "b=a+100\n",
    "print(a,b)\n",
    "\n",
    "str1=input('Enter a string:')\n",
    "str2=str1+'i8'\n",
    "print(str2)"
   ]
  },
  {
   "cell_type": "code",
   "execution_count": null,
   "metadata": {},
   "outputs": [],
   "source": [
    "a=-888\n",
    "b=100\n",
    "c=10\n",
    "d=2\n",
    "e=0.5\n",
    "print(abs(a))\n",
    "print(max(a,b,c,d,e))\n",
    "print(min(a,b,c,d,e))\n",
    "print(pow(c,d))\n",
    "print(round(7.5))\n",
    "print(round(6.5))\n",
    "print(int(123.456))\n",
    "print(round(123.456,2))"
   ]
  },
  {
   "cell_type": "code",
   "execution_count": null,
   "metadata": {},
   "outputs": [],
   "source": [
    "import math \n",
    "a=math.fabs(-123.45)\n",
    "print(a)\n",
    "\n",
    "b=math.ceil(8.8)\n",
    "print(b)\n",
    "\n",
    "c=math.floor(8.8)\n",
    "print(c)\n",
    "\n",
    "d=math.exp(1)\n",
    "print(d)\n",
    "e=math.log(100)\n",
    "print(e)\n",
    "\n",
    "f=math.log(100,10)\n",
    "print(f)\n",
    "\n",
    "g=math.sqrt(1000000)\n",
    "print(g)"
   ]
  },
  {
   "cell_type": "code",
   "execution_count": null,
   "metadata": {},
   "outputs": [],
   "source": [
    "m=math.tan(0)\n",
    "print(m)\n",
    "\n",
    "n=math.tan(2*math.pi)\n",
    "print(n)\n",
    "\n",
    "p=math.tan(0)\n",
    "print(m)\n",
    "\n",
    "n=math.tan(2*math.pi)\n",
    "print(p)\n",
    "\n",
    "q=math.radians(360)\n",
    "print(q)"
   ]
  },
  {
   "cell_type": "code",
   "execution_count": null,
   "metadata": {},
   "outputs": [],
   "source": [
    "x='Apple i'+str(8)\n",
    "print(x)\n",
    "\n",
    "y=ord('Z')\n",
    "print(y)\n",
    "\n",
    "z=chr(100)\n",
    "print(z)"
   ]
  },
  {
   "cell_type": "code",
   "execution_count": null,
   "metadata": {},
   "outputs": [],
   "source": [
    "score=eval(input('Enter your score:'))\n",
    "if score>=60:\n",
    "    score+=10\n",
    "  print('Your score is %d'%(score))\n"
   ]
  },
  {
   "cell_type": "code",
   "execution_count": null,
   "metadata": {},
   "outputs": [],
   "source": [
    "score=eval(input('Enter your score:'))\n",
    "if score>=60:\n",
    "    score+=10\n",
    "  \n",
    "else:\n",
    "    score+=8\n",
    "print('Your score is %d'%(score))    "
   ]
  },
  {
   "cell_type": "code",
   "execution_count": null,
   "metadata": {},
   "outputs": [],
   "source": [
    "temperature=eval(input('Enter temperature today:'))\n",
    "if temperature>=28:\n",
    "    print('Hot')\n",
    "else:\n",
    "    print('Comfortable')\n",
    "  print('Over')"
   ]
  },
  {
   "cell_type": "code",
   "execution_count": null,
   "metadata": {},
   "outputs": [],
   "source": [
    "temperature=eval(input('Enter temperature today:'))\n",
    "if temperature>=28:\n",
    "    print('Hot')\n",
    "  elif temperature>=22:\n",
    "    print('Comfortable')\n",
    "else:\n",
    "    print('Cold')\n",
    "  print('Over')"
   ]
  },
  {
   "cell_type": "code",
   "execution_count": null,
   "metadata": {},
   "outputs": [],
   "source": [
    "char=input('Enter a character:')\n",
    "if char>='a'and char<='z':\n",
    "    print('%c is lowercase character'%(char))\n",
    " elif char>='A'and char<='Z':\n",
    "    print('%c is uppercase character'%(char))\n",
    "  else:\n",
    "    print('%s is other character'%(char))\n",
    "\n"
   ]
  },
  {
   "cell_type": "code",
   "execution_count": null,
   "metadata": {},
   "outputs": [],
   "source": [
    "num=eval(input('Enter a number:'))\n",
    "if num%2==0:\n",
    "    print('%d'%(num),end=\")\n",
    "    print('is even number.')\n",
    "else:\n",
    "    print('%d%(num),end='')\n",
    "    print('is odd number.')\n",
    "  print('Test is over')        "
   ]
  },
  {
   "cell_type": "code",
   "execution_count": null,
   "metadata": {},
   "outputs": [],
   "source": [
    "fiveMulti=0\n",
    "k=5\n",
    "while k<=100:\n",
    "    fiveMulti=k\n",
    "    k+5\n",
    "  print(fiveMulti)  "
   ]
  },
  {
   "cell_type": "code",
   "execution_count": null,
   "metadata": {},
   "outputs": [],
   "source": [
    "total=0\n",
    "num=0\n",
    "while True:\n",
    "    num+1\n",
    "    total+=num\n",
    "    if total>=5050:\n",
    "        break\n",
    "print('1+2+3+....+%d'%(num,total))        "
   ]
  },
  {
   "cell_type": "code",
   "execution_count": null,
   "metadata": {},
   "outputs": [],
   "source": [
    "total=0\n",
    "num=1\n",
    "while num<=100:\n",
    "    if num%2==0:\n",
    "    num+=1\n",
    "  continue\n",
    " total+=num\n",
    "    num+=1\n",
    "    print('1+3+5..+99=',total)"
   ]
  },
  {
   "cell_type": "code",
   "execution_count": null,
   "metadata": {},
   "outputs": [],
   "source": [
    "total=0\n",
    "for i in range(1,101):\n",
    "    if i%2==1:\n",
    "        total+=i\n",
    "    else:\n",
    "        continue\n",
    " print('1+3+5..+99=',total)       \n"
   ]
  },
  {
   "cell_type": "code",
   "execution_count": null,
   "metadata": {},
   "outputs": [],
   "source": [
    "for i in range(10)\n",
    " for j in range(i,10):\n",
    "        print('*',end=\")\n",
    "       print('')       "
   ]
  },
  {
   "cell_type": "code",
   "execution_count": null,
   "metadata": {},
   "outputs": [],
   "source": [
    "for i in range(9)\n",
    "  for j in range(i):\n",
    "        print('*',end=\")\n",
    "      print(\")        "
   ]
  },
  {
   "cell_type": "code",
   "execution_count": null,
   "metadata": {},
   "outputs": [],
   "source": []
  }
 ],
 "metadata": {
  "kernelspec": {
   "display_name": "Python 3",
   "language": "python",
   "name": "python3"
  },
  "language_info": {
   "codemirror_mode": {
    "name": "ipython",
    "version": 3
   },
   "file_extension": ".py",
   "mimetype": "text/x-python",
   "name": "python",
   "nbconvert_exporter": "python",
   "pygments_lexer": "ipython3",
   "version": "3.8.3"
  }
 },
 "nbformat": 4,
 "nbformat_minor": 4
}
